{
 "cells": [
  {
   "cell_type": "code",
   "execution_count": 1,
   "id": "7ba02aa3",
   "metadata": {},
   "outputs": [],
   "source": [
    "import torch,os\n",
    "from torchvision.transforms import ToPILImage, ToTensor, Grayscale\n",
    "from PIL import Image\n",
    "import numpy as np"
   ]
  },
  {
   "cell_type": "code",
   "execution_count": 1,
   "id": "422f1fcf",
   "metadata": {},
   "outputs": [],
   "source": [
    "from diffusers import AutoencoderKL, StableDiffusionPipeline"
   ]
  },
  {
   "cell_type": "code",
   "execution_count": 7,
   "id": "39b4bb00",
   "metadata": {},
   "outputs": [
    {
     "data": {
      "text/plain": [
       "1828"
      ]
     },
     "execution_count": 7,
     "metadata": {},
     "output_type": "execute_result"
    }
   ],
   "source": [
    "len(os.listdir('/bask/projects/c/chenhp-data-gen/yifansun/project/EchoNet-Synthetic/data/vae_train_images/LabeledImage'))"
   ]
  },
  {
   "cell_type": "code",
   "execution_count": 8,
   "id": "d8eb020c",
   "metadata": {},
   "outputs": [
    {
     "data": {
      "text/plain": [
       "25351"
      ]
     },
     "execution_count": 8,
     "metadata": {},
     "output_type": "execute_result"
    }
   ],
   "source": [
    "len(os.listdir('/bask/projects/c/chenhp-data-gen/yifansun/project/EchoNet-Synthetic/data/vae_train_images/UnlabeledImage'))"
   ]
  },
  {
   "cell_type": "code",
   "execution_count": 9,
   "id": "e36408d1",
   "metadata": {},
   "outputs": [
    {
     "data": {
      "text/plain": [
       "16188"
      ]
     },
     "execution_count": 9,
     "metadata": {},
     "output_type": "execute_result"
    }
   ],
   "source": [
    "len(os.listdir('/bask/projects/c/chenhp-data-gen/yifansun/project/lidm_test/Data/ACDC/diffusion/flux_vae/Images'))"
   ]
  },
  {
   "cell_type": "markdown",
   "id": "8a27e146",
   "metadata": {},
   "source": [
    "find $(cd data/vae_train_images/UnlabeledImage && pwd) -type f | shuf > tmp.txt\n",
    "head -n -20000 tmp.txt > data/vae_train_images/train.txt\n",
    "tail -n 5351 tmp.txt > data/vae_train_images/val.txt\n",
    "rm tmp.txt"
   ]
  },
  {
   "cell_type": "code",
   "execution_count": 14,
   "id": "15c5ee12",
   "metadata": {},
   "outputs": [],
   "source": [
    "img = Image.open('/bask/projects/c/chenhp-data-gen/yifansun/project/EchoNet-Synthetic/data/vae_train_images/LabeledImage/patient001_frame01_1.png')\n",
    "totensor = ToTensor()\n",
    "gray = Grayscale(num_output_channels=3)\n",
    "img_tensor = gray(img)\n",
    "\n"
   ]
  },
  {
   "cell_type": "code",
   "execution_count": 15,
   "id": "94d12956",
   "metadata": {},
   "outputs": [
    {
     "data": {
      "text/plain": [
       "torch.Size([3, 96, 96])"
      ]
     },
     "execution_count": 15,
     "metadata": {},
     "output_type": "execute_result"
    }
   ],
   "source": [
    "img_tensor = totensor(img_tensor)\n",
    "img_tensor.shape"
   ]
  },
  {
   "cell_type": "code",
   "execution_count": 4,
   "id": "980be104",
   "metadata": {},
   "outputs": [
    {
     "data": {
      "text/plain": [
       "tensor([[[0.0549, 0.0549, 0.0588,  ..., 0.1294, 0.1137, 0.0902],\n",
       "         [0.0667, 0.0706, 0.0745,  ..., 0.0745, 0.0745, 0.0784],\n",
       "         [0.0627, 0.0510, 0.0471,  ..., 0.0824, 0.0941, 0.0902],\n",
       "         ...,\n",
       "         [0.0157, 0.0196, 0.0196,  ..., 0.3137, 0.2941, 0.2471],\n",
       "         [0.0157, 0.0314, 0.0314,  ..., 0.3176, 0.3098, 0.2627],\n",
       "         [0.1020, 0.0392, 0.0510,  ..., 0.3137, 0.3137, 0.2980]]])"
      ]
     },
     "execution_count": 4,
     "metadata": {},
     "output_type": "execute_result"
    }
   ],
   "source": [
    "img_tensor"
   ]
  },
  {
   "cell_type": "code",
   "execution_count": 2,
   "id": "f9c15b6d",
   "metadata": {},
   "outputs": [],
   "source": [
    "for i in (os.listdir('/bask/projects/c/chenhp-data-gen/yifansun/project/EchoNet-Synthetic/data/vae_train_images/UnlabeledImage')):\n",
    "    img = Image.open('/bask/projects/c/chenhp-data-gen/yifansun/project/EchoNet-Synthetic/data/vae_train_images/UnlabeledImage/'+i)\n",
    "    totensor = ToTensor()\n",
    "    img_tensor = totensor(img)\n",
    "    if img_tensor.shape != torch.Size([1, 96, 96]):\n",
    "        print(i)\n",
    "        print(img_tensor.shape)\n",
    "       "
   ]
  },
  {
   "cell_type": "code",
   "execution_count": 5,
   "id": "d8c59562",
   "metadata": {},
   "outputs": [
    {
     "data": {
      "image/jpeg": "[encoded data removed]",
      "image/png": "[encoded data removed]",
      "text/plain": [
       "<PIL.Image.Image image mode=L size=96x96>"
      ]
     },
     "metadata": {},
     "output_type": "display_data"
    }
   ],
   "source": [
    "import torch,diffusers\n",
    "from diffusers import AutoencoderKL, StableDiffusionPipeline\n",
    "import os\n",
    "from PIL import Image\n",
    "import numpy as np\n",
    "\n",
    "vae = AutoencoderKL.from_pretrained(\"/bask/projects/c/chenhp-data-gen/yifansun/project/EchoNet-Synthetic/models/vae\")\n",
    "vae.eval()\n",
    "\n",
    "# Use the model to encode and decode images\n",
    "img = Image.open(\"/bask/projects/c/chenhp-data-gen/yifansun/project/EchoNet-Synthetic/data/vae_train_images/UnlabeledImage/patient-1-frame1.png\").convert(\"L\")\n",
    "display(img)"
   ]
  },
  {
   "cell_type": "code",
   "execution_count": 6,
   "id": "71791b8c",
   "metadata": {},
   "outputs": [
    {
     "data": {
      "image/jpeg": "[encoded data removed]",
      "image/png": "[encoded data removed]",
      "text/plain": [
       "<PIL.Image.Image image mode=RGB size=96x96>"
      ]
     },
     "metadata": {},
     "output_type": "display_data"
    }
   ],
   "source": [
    "img_array = np.array(img)  # Convert to NumPy array\n",
    "\n",
    "# Convert to 3-channel image\n",
    "img_3channel = np.stack([img_array] * 3, axis=-1)\n",
    "img = torch.from_numpy(img_3channel).permute(2,0,1).unsqueeze(0).to(torch.float32) / 128 - 1\n",
    "\n",
    "with torch.no_grad():\n",
    "    lat = vae.encode(img).latent_dist.sample()\n",
    "    rec = vae.decode(lat).sample\n",
    "# Display the original and reconstructed images\n",
    "img = img.squeeze(0).permute(1,2,0)\n",
    "rec = rec.squeeze(0).permute(1,2,0)\n",
    "display(Image.fromarray(((img + 1) * 128).to(torch.uint8).numpy()))"
   ]
  },
  {
   "cell_type": "code",
   "execution_count": null,
   "id": "04e5a5d4",
   "metadata": {},
   "outputs": [],
   "source": []
  }
 ],
 "metadata": {
  "kernelspec": {
   "display_name": "echosyn",
   "language": "python",
   "name": "python3"
  },
  "language_info": {
   "codemirror_mode": {
    "name": "ipython",
    "version": 3
   },
   "file_extension": ".py",
   "mimetype": "text/x-python",
   "name": "python",
   "nbconvert_exporter": "python",
   "pygments_lexer": "ipython3",
   "version": "3.11.11"
  }
 },
 "nbformat": 4,
 "nbformat_minor": 5
}
